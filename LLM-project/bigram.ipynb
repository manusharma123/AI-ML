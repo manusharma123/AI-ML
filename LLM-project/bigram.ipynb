{
 "cells": [
  {
   "cell_type": "code",
   "execution_count": 13,
   "id": "de0ba363-e4c8-40b2-bb25-e276f6c2a3e6",
   "metadata": {},
   "outputs": [
    {
     "name": "stdout",
     "output_type": "stream",
     "text": [
      "cuda\n"
     ]
    }
   ],
   "source": [
    "import torch\n",
    "device = 'cuda' if torch.cuda.is_available() else 'cpu'\n",
    "print(device)\n",
    "block_size = 8\n",
    "batch_size = 4"
   ]
  },
  {
   "cell_type": "code",
   "execution_count": 6,
   "id": "cfc76acb",
   "metadata": {},
   "outputs": [
    {
     "name": "stdout",
     "output_type": "stream",
     "text": [
      "['\\n', ' ', '!', '\"', '&', \"'\", '(', ')', '*', ',', '-', '.', '0', '1', '2', '3', '4', '5', '6', '7', '8', '9', ':', ';', '?', 'A', 'B', 'C', 'D', 'E', 'F', 'G', 'H', 'I', 'J', 'K', 'L', 'M', 'N', 'O', 'P', 'Q', 'R', 'S', 'T', 'U', 'V', 'W', 'X', 'Y', 'Z', '[', ']', '_', 'a', 'b', 'c', 'd', 'e', 'f', 'g', 'h', 'i', 'j', 'k', 'l', 'm', 'n', 'o', 'p', 'q', 'r', 's', 't', 'u', 'v', 'w', 'x', 'y', 'z', '\\ufeff']\n",
      "81\n"
     ]
    }
   ],
   "source": [
    "with open('WIZARD_OF_OZ.txt', 'r', encoding='utf-8') as f:\n",
    "    text = f.read()\n",
    "chars = sorted(set(text))\n",
    "print(chars)\n",
    "vocabluary_size = len(chars)\n",
    "print(vocabluary_size)"
   ]
  },
  {
   "cell_type": "code",
   "execution_count": 7,
   "id": "18411a40-6e3f-420b-a24e-6901f5f89d91",
   "metadata": {},
   "outputs": [
    {
     "name": "stdout",
     "output_type": "stream",
     "text": [
      "tensor([80, 12,  9, 13,  9, 14,  9, 15,  9, 16,  9, 17,  9, 18,  9, 19,  9, 20,\n",
      "         9, 21,  1,  0,  4,  0, 28, 68, 71, 68, 73, 61, 78,  1, 65, 62, 75, 58,\n",
      "        57,  1, 62, 67,  1, 73, 61, 58,  1, 66, 62, 57, 72, 73,  1, 68, 59,  1,\n",
      "        73, 61, 58,  1, 60, 71, 58, 54, 73,  1, 35, 54, 67, 72, 54, 72,  1, 69,\n",
      "        71, 54, 62, 71, 62, 58, 72,  9,  1, 76, 62, 73, 61,  1, 45, 67, 56, 65,\n",
      "        58,  0, 32, 58, 67, 71, 78,  9,  1, 76, 61, 68,  1, 76, 54, 72,  1, 54,\n",
      "         1, 59, 54, 71, 66, 58, 71,  9,  1, 54, 67, 57,  1, 25, 74, 67, 73,  1,\n",
      "        29, 66,  9,  1, 76, 61, 68,  1, 76, 54, 72,  1, 73, 61, 58,  1, 59, 54,\n",
      "        71, 66, 58, 71,  5, 72,  1, 76, 62, 59, 58, 11,  0, 44, 61, 58, 62, 71,\n",
      "         1, 61, 68, 74, 72, 58,  1, 76, 54, 72,  1, 72, 66, 54, 65, 65,  9,  1,\n",
      "        59, 68, 71,  1, 73, 61, 58,  1, 65, 74, 66, 55, 58, 71,  1, 73, 68,  1,\n",
      "        55, 74])\n"
     ]
    }
   ],
   "source": [
    "string_to_int = {ch:i for i, ch in enumerate(chars)}\n",
    "int_to_string = {i:ch for i, ch in enumerate(chars)}\n",
    "encode = lambda s:[string_to_int[c] for c in s]\n",
    "decode = lambda l: ''.join([int_to_string[i] for i in l])\n",
    "\n",
    "data = torch.tensor(encode(text), dtype=torch.long)\n",
    "print(data[:200])"
   ]
  },
  {
   "cell_type": "code",
   "execution_count": 8,
   "id": "091740e7-e46c-4af5-bd39-c5eaabb15243",
   "metadata": {},
   "outputs": [],
   "source": [
    "n= int(0.8*len(data))\n",
    "train_data = data[:n]\n",
    "val_train = data[n:]"
   ]
  },
  {
   "cell_type": "code",
   "execution_count": 10,
   "id": "9e0881dc-e3da-450b-8624-a0db236ee124",
   "metadata": {},
   "outputs": [
    {
     "name": "stdout",
     "output_type": "stream",
     "text": [
      "when input is tensor([80]) target is tensor(12)\n",
      "when input is tensor([80, 12]) target is tensor(9)\n",
      "when input is tensor([80, 12,  9]) target is tensor(13)\n",
      "when input is tensor([80, 12,  9, 13]) target is tensor(9)\n",
      "when input is tensor([80, 12,  9, 13,  9]) target is tensor(14)\n",
      "when input is tensor([80, 12,  9, 13,  9, 14]) target is tensor(9)\n",
      "when input is tensor([80, 12,  9, 13,  9, 14,  9]) target is tensor(15)\n",
      "when input is tensor([80, 12,  9, 13,  9, 14,  9, 15]) target is tensor(9)\n"
     ]
    }
   ],
   "source": [
    "block_size = 8\n",
    "x = train_data[:block_size]\n",
    "y = train_data[1:block_size+1]\n",
    "\n",
    "for t in range(block_size):\n",
    "    context = x[:t+1]\n",
    "    target = y[t]\n",
    "    print('when input is', context, 'target is', target)"
   ]
  },
  {
   "cell_type": "code",
   "execution_count": null,
   "id": "2ade17e1-7d0b-466a-8ec8-6db6f04f5cca",
   "metadata": {},
   "outputs": [],
   "source": []
  }
 ],
 "metadata": {
  "kernelspec": {
   "display_name": "cuda",
   "language": "python",
   "name": "python3"
  },
  "language_info": {
   "codemirror_mode": {
    "name": "ipython",
    "version": 3
   },
   "file_extension": ".py",
   "mimetype": "text/x-python",
   "name": "python",
   "nbconvert_exporter": "python",
   "pygments_lexer": "ipython3",
   "version": "3.11.1"
  }
 },
 "nbformat": 4,
 "nbformat_minor": 5
}
